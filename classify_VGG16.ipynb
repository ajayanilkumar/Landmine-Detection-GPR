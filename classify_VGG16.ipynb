{
 "cells": [
  {
   "cell_type": "markdown",
   "metadata": {},
   "source": [
    "## Rename the dataset"
   ]
  },
  {
   "cell_type": "code",
   "execution_count": null,
   "metadata": {},
   "outputs": [],
   "source": [
    "import os\n",
    "import re\n",
    "\n",
    "# The directory containing the files\n",
    "directory = '/Users/anilrao/Desktop/Capstone_Code/dataset'\n",
    "\n",
    "# Regex pattern to match the file names\n",
    "pattern = re.compile(r\"cylinder_Bscan_2D_[0-9]+_concrete_[0-9]*\\.[0-9]+_[0-9]*\\.[0-9]+_post\\.png\")\n",
    "\n",
    "# Base for new file names\n",
    "new_base_name = \"concrete\"\n",
    "\n",
    "# Counter for unique file names\n",
    "counter = 241\n",
    "\n",
    "# Iterate over the files in the directory\n",
    "for filename in os.listdir(directory):\n",
    "    # Match the file name using the regex pattern\n",
    "    if pattern.match(filename):\n",
    "        # Get the extension of the current file\n",
    "        _, extension = os.path.splitext(filename)\n",
    "        \n",
    "        # Construct the new file name using the new base name, a counter for uniqueness, and original extension\n",
    "        new_filename = f\"{new_base_name}_{counter}{extension}\"\n",
    "        counter += 1  # Increment the counter for the next file\n",
    "        \n",
    "        # Construct the full old and new file paths\n",
    "        old_file_path = os.path.join(directory, filename)\n",
    "        new_file_path = os.path.join(directory, new_filename)\n",
    "        \n",
    "        # Rename the file\n",
    "        os.rename(old_file_path, new_file_path)\n",
    "        print(f\"Renamed file from {filename} to {new_filename}\")\n"
   ]
  },
  {
   "cell_type": "markdown",
   "metadata": {},
   "source": [
    "## Logic for Data Augmentation"
   ]
  },
  {
   "cell_type": "code",
   "execution_count": null,
   "metadata": {},
   "outputs": [],
   "source": [
    "from PIL import Image\n",
    "\n",
    "# Open an image file\n",
    "with Image.open('/Users/anilrao/Desktop/Capstone_Code/dataset/concrete_1.png') as image:\n",
    "    # Flip the image horizontally\n",
    "    flipped_image = image.transpose(Image.FLIP_LEFT_RIGHT)\n",
    "    \n",
    "    # Save it to a file, if desired\n",
    "    flipped_image.save('/Users/anilrao/Desktop/Capstone_Code/horizontally_flipped.png')\n",
    "\n",
    "    # If you want to display the image in Jupyter Notebook\n",
    "    display(flipped_image)"
   ]
  },
  {
   "cell_type": "markdown",
   "metadata": {},
   "source": [
    "## Check size of each image"
   ]
  },
  {
   "cell_type": "code",
   "execution_count": 12,
   "metadata": {},
   "outputs": [
    {
     "name": "stdout",
     "output_type": "stream",
     "text": [
      "The dimensions of the image are:, 1182, “x”, 1175\n"
     ]
    }
   ],
   "source": [
    "filepath = \"/Users/anilrao/Desktop/Capstone_Code/dataset/concrete_245.png\"\n",
    "\n",
    "img = Image.open (filepath)\n",
    "\n",
    "width, height = img.size\n",
    "\n",
    "print(f\"The dimensions of the image are:, {width} x {height}\")"
   ]
  },
  {
   "cell_type": "markdown",
   "metadata": {},
   "source": [
    "## Data Augmentation for Negative Samples (Without Landmine)"
   ]
  },
  {
   "cell_type": "code",
   "execution_count": null,
   "metadata": {},
   "outputs": [],
   "source": [
    "import os\n",
    "import re\n",
    "\n",
    "# The directory containing the files\n",
    "directory = '/Users/anilrao/Desktop/Capstone_Code/dataset'\n",
    "\n",
    "# Regex pattern to match the file names\n",
    "pattern = re.compile(r\"concrete_[0-9]+\\.png\")\n",
    "\n",
    "# Base for new file names\n",
    "new_base_name = \"concrete\"\n",
    "\n",
    "# Counter for unique file names\n",
    "counter = 241\n",
    "\n",
    "# Iterate over the files in the directory\n",
    "for filename in os.listdir(directory):\n",
    "    # Match the file name using the regex pattern\n",
    "    if pattern.match(filename):\n",
    "        # Get the extension of the current file\n",
    "        _, extension = os.path.splitext(filename)\n",
    "        \n",
    "        # Construct the new file name using the new base name, a counter for uniqueness, and original extension\n",
    "        new_filename = f\"{new_base_name}_{counter}{extension}\"\n",
    "\n",
    "        with Image.open(f'/Users/anilrao/Desktop/Capstone_Code/dataset/{filename}') as image:\n",
    "            # Flip the image horizontally\n",
    "            flipped_image = image.transpose(Image.FLIP_LEFT_RIGHT)\n",
    "        \n",
    "            # Save it to a file, if desired\n",
    "            flipped_image.save(f'/Users/anilrao/Desktop/Capstone_Code/dataset/{new_filename}')\n",
    "            #print(f\"oldfile : {filename}, augmented : {new_filename}\\n\")\n",
    "        counter += 1  # Increment the counter for the next file"
   ]
  },
  {
   "cell_type": "markdown",
   "metadata": {},
   "source": [
    "## Import Libraries"
   ]
  },
  {
   "cell_type": "code",
   "execution_count": 2,
   "metadata": {},
   "outputs": [],
   "source": [
    "from PIL import Image\n",
    "import tensorflow as tf\n",
    "import os,glob\n",
    "import cv2\n",
    "from tqdm.notebook import tqdm_notebook as tqdm\n",
    "import numpy as np\n",
    "from sklearn import preprocessing\n",
    "from sklearn.model_selection import train_test_split\n",
    "from keras.models import Sequential\n",
    "from keras.layers import Convolution2D, Dropout, Dense,MaxPooling2D\n",
    "from keras.layers import BatchNormalization\n",
    "from keras.layers import MaxPooling2D\n",
    "from keras.layers import Flatten\n"
   ]
  },
  {
   "cell_type": "markdown",
   "metadata": {},
   "source": [
    "## Label the Data"
   ]
  },
  {
   "cell_type": "code",
   "execution_count": 3,
   "metadata": {},
   "outputs": [
    {
     "data": {
      "application/vnd.jupyter.widget-view+json": {
       "model_id": "d416ac3a87904a09a3c8a776c888793e",
       "version_major": 2,
       "version_minor": 0
      },
      "text/plain": [
       "  0%|          | 0/480 [00:00<?, ?it/s]"
      ]
     },
     "metadata": {},
     "output_type": "display_data"
    }
   ],
   "source": [
    "os.chdir('/Users/anilrao/Desktop/Capstone_Code/dataset/yes')\n",
    "X = []\n",
    "y = []\n",
    "for i in tqdm(os.listdir()):\n",
    "      img = cv2.imread(i)   \n",
    "      img = cv2.resize(img,(224,224))\n",
    "      X.append(img)\n",
    "      y.append('Y')\n",
    "      #print('Y')"
   ]
  },
  {
   "cell_type": "code",
   "execution_count": 4,
   "metadata": {},
   "outputs": [
    {
     "data": {
      "application/vnd.jupyter.widget-view+json": {
       "model_id": "4ee27925e0754b169f1e97f1c5673c73",
       "version_major": 2,
       "version_minor": 0
      },
      "text/plain": [
       "  0%|          | 0/480 [00:00<?, ?it/s]"
      ]
     },
     "metadata": {},
     "output_type": "display_data"
    }
   ],
   "source": [
    "os.chdir('/Users/anilrao/Desktop/Capstone_Code/dataset/no')\n",
    "for i in tqdm(os.listdir()):\n",
    "      img = cv2.imread(i)   \n",
    "      img = cv2.resize(img,(224,224))\n",
    "      X.append(img)\n",
    "      y.append('N')\n",
    "      #print('N')"
   ]
  },
  {
   "cell_type": "markdown",
   "metadata": {},
   "source": [
    "## Plot a few example images"
   ]
  },
  {
   "cell_type": "code",
   "execution_count": 15,
   "metadata": {},
   "outputs": [
    {
     "data": {
      "image/png": "[encoded data removed]",
      "text/plain": [
       "<Figure size 1000x1000 with 4 Axes>"
      ]
     },
     "metadata": {},
     "output_type": "display_data"
    }
   ],
   "source": [
    "%matplotlib inline\n",
    "import matplotlib.pyplot as plt\n",
    "plt.figure(figsize=(10, 10))\n",
    "for i in range(4):\n",
    "    plt.subplot(1, 4, i+1)\n",
    "    plt.imshow(X[i], cmap=\"gray\")\n",
    "    plt.axis('off')\n",
    "plt.show()"
   ]
  },
  {
   "cell_type": "markdown",
   "metadata": {},
   "source": [
    "## Resize the images to the size required by VGG"
   ]
  },
  {
   "cell_type": "code",
   "execution_count": 5,
   "metadata": {},
   "outputs": [
    {
     "name": "stdout",
     "output_type": "stream",
     "text": [
      "Shape of an image in X_train:  (224, 224, 3)\n",
      "Shape of an image in X_test:  (224, 224, 3)\n"
     ]
    }
   ],
   "source": [
    "X_train, X_test, y_train, y_test = train_test_split(X, y, test_size=0.20, random_state=42)\n",
    "print (\"Shape of an image in X_train: \", X_train[0].shape)\n",
    "print (\"Shape of an image in X_test: \", X_test[0].shape)"
   ]
  },
  {
   "cell_type": "code",
   "execution_count": 6,
   "metadata": {},
   "outputs": [
    {
     "name": "stdout",
     "output_type": "stream",
     "text": [
      "X_train Shape:  (768, 224, 224, 3)\n",
      "X_test Shape:  (192, 224, 224, 3)\n",
      "y_train Shape:  (768, 2)\n",
      "y_test Shape:  (192, 2)\n"
     ]
    }
   ],
   "source": [
    "le = preprocessing.LabelEncoder()\n",
    "y_train = le.fit_transform(y_train)\n",
    "y_test = le.fit_transform(y_test)\n",
    "y_train = tf.keras.utils.to_categorical(y_train, num_classes=2)\n",
    "y_test = tf.keras.utils.to_categorical(y_test, num_classes=2)\n",
    "y_train = np.array(y_train)\n",
    "X_train = np.array(X_train)\n",
    "y_test = np.array(y_test)\n",
    "X_test = np.array(X_test) \n",
    "print(\"X_train Shape: \", X_train.shape) \n",
    "print(\"X_test Shape: \", X_test.shape)\n",
    "print(\"y_train Shape: \", y_train.shape) \n",
    "print(\"y_test Shape: \", y_test.shape)"
   ]
  },
  {
   "cell_type": "markdown",
   "metadata": {},
   "source": [
    "## Load the VGG16 Pretrained Model"
   ]
  },
  {
   "cell_type": "code",
   "execution_count": 7,
   "metadata": {},
   "outputs": [
    {
     "name": "stderr",
     "output_type": "stream",
     "text": [
      "2023-11-08 19:48:08.943672: I metal_plugin/src/device/metal_device.cc:1154] Metal device set to: Apple M1\n",
      "2023-11-08 19:48:08.943706: I metal_plugin/src/device/metal_device.cc:296] systemMemory: 16.00 GB\n",
      "2023-11-08 19:48:08.943711: I metal_plugin/src/device/metal_device.cc:313] maxCacheSize: 5.33 GB\n",
      "2023-11-08 19:48:08.943754: I tensorflow/core/common_runtime/pluggable_device/pluggable_device_factory.cc:306] Could not identify NUMA node of platform GPU ID 0, defaulting to 0. Your kernel may not have been built with NUMA support.\n",
      "2023-11-08 19:48:08.943773: I tensorflow/core/common_runtime/pluggable_device/pluggable_device_factory.cc:272] Created TensorFlow device (/job:localhost/replica:0/task:0/device:GPU:0 with 0 MB memory) -> physical PluggableDevice (device: 0, name: METAL, pci bus id: <undefined>)\n"
     ]
    }
   ],
   "source": [
    "from keras.applications import vgg16\n",
    "\n",
    "img_rows, img_cols = 224, 224 \n",
    "vgg = vgg16.VGG16(weights = 'imagenet', \n",
    "                 include_top = False, \n",
    "                 input_shape = (img_rows, img_cols, 3))\n",
    "\n",
    "# Here we freeze the last 4 layers \n",
    "# Layers are set to trainable as True by default\n",
    "for layer in vgg.layers[:-2]:\n",
    "    layer.trainable = False"
   ]
  },
  {
   "cell_type": "code",
   "execution_count": 8,
   "metadata": {},
   "outputs": [
    {
     "name": "stdout",
     "output_type": "stream",
     "text": [
      "0 InputLayer False\n",
      "1 Conv2D False\n",
      "2 Conv2D False\n",
      "3 MaxPooling2D False\n",
      "4 Conv2D False\n",
      "5 Conv2D False\n",
      "6 MaxPooling2D False\n",
      "7 Conv2D False\n",
      "8 Conv2D False\n",
      "9 Conv2D False\n",
      "10 MaxPooling2D False\n",
      "11 Conv2D False\n",
      "12 Conv2D False\n",
      "13 Conv2D False\n",
      "14 MaxPooling2D False\n",
      "15 Conv2D False\n",
      "16 Conv2D False\n",
      "17 Conv2D True\n",
      "18 MaxPooling2D True\n"
     ]
    }
   ],
   "source": [
    "# Printing the layers\n",
    "for (i,layer) in enumerate(vgg.layers):\n",
    "    print(str(i) + \" \"+ layer.__class__.__name__, layer.trainable)"
   ]
  },
  {
   "cell_type": "markdown",
   "metadata": {},
   "source": [
    "## Add Custom Layers to train on Task Specific Data"
   ]
  },
  {
   "cell_type": "code",
   "execution_count": 9,
   "metadata": {},
   "outputs": [],
   "source": [
    "from keras.models import Sequential\n",
    "from keras.layers import Dense, Dropout, Activation, Flatten, GlobalAveragePooling2D\n",
    "from keras.layers import Conv2D, MaxPooling2D, ZeroPadding2D\n",
    "from keras.models import Model"
   ]
  },
  {
   "cell_type": "code",
   "execution_count": 10,
   "metadata": {},
   "outputs": [],
   "source": [
    "def lw(bottom_model, num_classes):\n",
    "    \"\"\"creates the top or head of the model that will be \n",
    "    placed ontop of the bottom layers\"\"\"\n",
    "\n",
    "    top_model = bottom_model.output\n",
    "    top_model = GlobalAveragePooling2D()(top_model)\n",
    "    top_model = Dense(1024,activation='relu')(top_model)\n",
    "    top_model = Dense(512,activation='relu')(top_model)\n",
    "    top_model = Dense(num_classes,activation='sigmoid')(top_model)\n",
    "    return top_model "
   ]
  },
  {
   "cell_type": "markdown",
   "metadata": {},
   "source": [
    "## Compile and summarize the CNN Architecture"
   ]
  },
  {
   "cell_type": "code",
   "execution_count": 11,
   "metadata": {},
   "outputs": [
    {
     "name": "stdout",
     "output_type": "stream",
     "text": [
      "Model: \"model\"\n",
      "_________________________________________________________________\n",
      " Layer (type)                Output Shape              Param #   \n",
      "=================================================================\n",
      " input_1 (InputLayer)        [(None, 224, 224, 3)]     0         \n",
      "                                                                 \n",
      " block1_conv1 (Conv2D)       (None, 224, 224, 64)      1792      \n",
      "                                                                 \n",
      " block1_conv2 (Conv2D)       (None, 224, 224, 64)      36928     \n",
      "                                                                 \n",
      " block1_pool (MaxPooling2D)  (None, 112, 112, 64)      0         \n",
      "                                                                 \n",
      " block2_conv1 (Conv2D)       (None, 112, 112, 128)     73856     \n",
      "                                                                 \n",
      " block2_conv2 (Conv2D)       (None, 112, 112, 128)     147584    \n",
      "                                                                 \n",
      " block2_pool (MaxPooling2D)  (None, 56, 56, 128)       0         \n",
      "                                                                 \n",
      " block3_conv1 (Conv2D)       (None, 56, 56, 256)       295168    \n",
      "                                                                 \n",
      " block3_conv2 (Conv2D)       (None, 56, 56, 256)       590080    \n",
      "                                                                 \n",
      " block3_conv3 (Conv2D)       (None, 56, 56, 256)       590080    \n",
      "                                                                 \n",
      " block3_pool (MaxPooling2D)  (None, 28, 28, 256)       0         \n",
      "                                                                 \n",
      " block4_conv1 (Conv2D)       (None, 28, 28, 512)       1180160   \n",
      "                                                                 \n",
      " block4_conv2 (Conv2D)       (None, 28, 28, 512)       2359808   \n",
      "                                                                 \n",
      " block4_conv3 (Conv2D)       (None, 28, 28, 512)       2359808   \n",
      "                                                                 \n",
      " block4_pool (MaxPooling2D)  (None, 14, 14, 512)       0         \n",
      "                                                                 \n",
      " block5_conv1 (Conv2D)       (None, 14, 14, 512)       2359808   \n",
      "                                                                 \n",
      " block5_conv2 (Conv2D)       (None, 14, 14, 512)       2359808   \n",
      "                                                                 \n",
      " block5_conv3 (Conv2D)       (None, 14, 14, 512)       2359808   \n",
      "                                                                 \n",
      " block5_pool (MaxPooling2D)  (None, 7, 7, 512)         0         \n",
      "                                                                 \n",
      " global_average_pooling2d (  (None, 512)               0         \n",
      " GlobalAveragePooling2D)                                         \n",
      "                                                                 \n",
      " dense (Dense)               (None, 1024)              525312    \n",
      "                                                                 \n",
      " dense_1 (Dense)             (None, 512)               524800    \n",
      "                                                                 \n",
      " dense_2 (Dense)             (None, 2)                 1026      \n",
      "                                                                 \n",
      "=================================================================\n",
      "Total params: 15765826 (60.14 MB)\n",
      "Trainable params: 3410946 (13.01 MB)\n",
      "Non-trainable params: 12354880 (47.13 MB)\n",
      "_________________________________________________________________\n",
      "None\n"
     ]
    }
   ],
   "source": [
    "num_classes = 2\n",
    "FC_Head = lw(vgg, num_classes)\n",
    "model = Model(inputs = vgg.input, outputs = FC_Head)\n",
    "print(model.summary())"
   ]
  },
  {
   "cell_type": "markdown",
   "metadata": {},
   "source": [
    "## Train the data on the CNN Architecture"
   ]
  },
  {
   "cell_type": "code",
   "execution_count": 12,
   "metadata": {},
   "outputs": [
    {
     "name": "stdout",
     "output_type": "stream",
     "text": [
      "Epoch 1/18\n"
     ]
    },
    {
     "name": "stderr",
     "output_type": "stream",
     "text": [
      "/Users/anilrao/Desktop/Capstone_Code/metal/lib/python3.11/site-packages/keras/src/optimizers/legacy/adam.py:118: UserWarning: The `lr` argument is deprecated, use `learning_rate` instead.\n",
      "  super().__init__(name, **kwargs)\n",
      "2023-11-08 19:48:28.852136: I tensorflow/core/grappler/optimizers/custom_graph_optimizer_registry.cc:117] Plugin optimizer for device_type GPU is enabled.\n"
     ]
    },
    {
     "name": "stdout",
     "output_type": "stream",
     "text": [
      "24/24 [==============================] - 13s 539ms/step - loss: 6.8865 - accuracy: 0.6693 - val_loss: 0.3465 - val_accuracy: 0.8802\n",
      "Epoch 2/18\n",
      "24/24 [==============================] - 13s 536ms/step - loss: 0.3105 - accuracy: 0.8854 - val_loss: 0.2629 - val_accuracy: 0.9115\n",
      "Epoch 3/18\n",
      "24/24 [==============================] - 13s 535ms/step - loss: 0.1531 - accuracy: 0.9427 - val_loss: 0.1296 - val_accuracy: 0.9740\n",
      "Epoch 4/18\n",
      "24/24 [==============================] - 13s 536ms/step - loss: 0.0631 - accuracy: 0.9779 - val_loss: 0.1061 - val_accuracy: 0.9531\n",
      "Epoch 5/18\n",
      "24/24 [==============================] - 13s 535ms/step - loss: 0.0419 - accuracy: 0.9870 - val_loss: 0.1109 - val_accuracy: 0.9740\n",
      "Epoch 6/18\n",
      "24/24 [==============================] - 13s 535ms/step - loss: 0.1528 - accuracy: 0.9427 - val_loss: 0.2275 - val_accuracy: 0.9062\n",
      "Epoch 7/18\n",
      "24/24 [==============================] - 13s 535ms/step - loss: 0.0999 - accuracy: 0.9635 - val_loss: 0.1186 - val_accuracy: 0.9635\n",
      "Epoch 8/18\n",
      "24/24 [==============================] - 13s 536ms/step - loss: 0.0455 - accuracy: 0.9844 - val_loss: 0.1115 - val_accuracy: 0.9688\n",
      "Epoch 9/18\n",
      "24/24 [==============================] - 13s 535ms/step - loss: 0.0300 - accuracy: 0.9909 - val_loss: 0.0475 - val_accuracy: 0.9896\n",
      "Epoch 10/18\n",
      "24/24 [==============================] - 13s 535ms/step - loss: 0.0140 - accuracy: 0.9961 - val_loss: 0.0523 - val_accuracy: 0.9740\n",
      "Epoch 11/18\n",
      "24/24 [==============================] - 13s 535ms/step - loss: 0.0033 - accuracy: 1.0000 - val_loss: 0.0558 - val_accuracy: 0.9792\n",
      "Epoch 12/18\n",
      "24/24 [==============================] - 13s 534ms/step - loss: 0.0055 - accuracy: 0.9974 - val_loss: 0.1149 - val_accuracy: 0.9479\n",
      "Epoch 13/18\n",
      "24/24 [==============================] - 13s 538ms/step - loss: 0.0059 - accuracy: 0.9974 - val_loss: 0.0308 - val_accuracy: 0.9896\n",
      "Epoch 14/18\n",
      "24/24 [==============================] - 13s 561ms/step - loss: 0.0132 - accuracy: 0.9948 - val_loss: 0.1201 - val_accuracy: 0.9583\n",
      "Epoch 15/18\n",
      "24/24 [==============================] - 13s 534ms/step - loss: 0.0420 - accuracy: 0.9844 - val_loss: 0.0983 - val_accuracy: 0.9792\n",
      "Epoch 16/18\n",
      "24/24 [==============================] - 13s 534ms/step - loss: 0.0154 - accuracy: 0.9948 - val_loss: 0.1189 - val_accuracy: 0.9688\n",
      "Epoch 17/18\n",
      "24/24 [==============================] - 13s 534ms/step - loss: 0.0162 - accuracy: 0.9961 - val_loss: 0.1709 - val_accuracy: 0.9635\n",
      "Epoch 18/18\n",
      "24/24 [==============================] - 13s 535ms/step - loss: 0.0634 - accuracy: 0.9844 - val_loss: 0.0735 - val_accuracy: 0.9740\n"
     ]
    }
   ],
   "source": [
    "from keras.optimizers.legacy import Adam\n",
    "\n",
    "# Define the learning rate\n",
    "learning_rate = 0.001\n",
    "\n",
    "# Create the optimizer with the desired learning rate\n",
    "adam_optimizer = Adam(lr=learning_rate)\n",
    "\n",
    "# Compile the model with the custom optimizer\n",
    "model.compile(optimizer=adam_optimizer, loss='binary_crossentropy', metrics=['accuracy'])\n",
    "history = model.fit(X_train,y_train, \n",
    "                    epochs=18, \n",
    "                    validation_data=(X_test,y_test),\n",
    "                    verbose = 1,\n",
    "                    initial_epoch=0)"
   ]
  },
  {
   "cell_type": "markdown",
   "metadata": {},
   "source": [
    "## Plot Graph for Training Accuracy vs Vaidation Accuracy"
   ]
  },
  {
   "cell_type": "code",
   "execution_count": 16,
   "metadata": {},
   "outputs": [
    {
     "data": {
      "image/png": "[encoded data removed]",
      "text/plain": [
       "<Figure size 640x480 with 1 Axes>"
      ]
     },
     "metadata": {},
     "output_type": "display_data"
    },
    {
     "data": {
      "text/plain": [
       "<Figure size 640x480 with 0 Axes>"
      ]
     },
     "metadata": {},
     "output_type": "display_data"
    }
   ],
   "source": [
    "%matplotlib inline\n",
    "acc = history.history['accuracy']\n",
    "val_acc = history.history['val_accuracy']\n",
    "loss = history.history['loss']\n",
    "val_loss = history.history['val_loss']\n",
    "\n",
    "epochs = range(len(acc))\n",
    "\n",
    "plt.plot(epochs, acc, 'r', label='Training accuracy')\n",
    "plt.plot(epochs, val_acc, 'b', label='Validation accuracy')\n",
    "plt.title('Training and validation accuracy')\n",
    "plt.legend(loc=0)\n",
    "plt.figure()\n",
    "\n",
    "plt.show()"
   ]
  },
  {
   "cell_type": "code",
   "execution_count": null,
   "metadata": {},
   "outputs": [],
   "source": [
    "%matplotlib inline\n",
    "plt.plot(epochs, loss, 'r', label='Training loss')\n",
    "plt.plot(epochs, val_loss, 'b', label='Validation loss')\n",
    "plt.title('Training and validation loss')\n",
    "plt.legend(loc=0)\n",
    "plt.show()"
   ]
  },
  {
   "cell_type": "code",
   "execution_count": 23,
   "metadata": {},
   "outputs": [
    {
     "name": "stdout",
     "output_type": "stream",
     "text": [
      "Model: \"model\"\n",
      "_________________________________________________________________\n",
      " Layer (type)                Output Shape              Param #   \n",
      "=================================================================\n",
      " input_1 (InputLayer)        [(None, 224, 224, 3)]     0         \n",
      "                                                                 \n",
      " block1_conv1 (Conv2D)       (None, 224, 224, 64)      1792      \n",
      "                                                                 \n",
      " block1_conv2 (Conv2D)       (None, 224, 224, 64)      36928     \n",
      "                                                                 \n",
      " block1_pool (MaxPooling2D)  (None, 112, 112, 64)      0         \n",
      "                                                                 \n",
      " block2_conv1 (Conv2D)       (None, 112, 112, 128)     73856     \n",
      "                                                                 \n",
      " block2_conv2 (Conv2D)       (None, 112, 112, 128)     147584    \n",
      "                                                                 \n",
      " block2_pool (MaxPooling2D)  (None, 56, 56, 128)       0         \n",
      "                                                                 \n",
      " block3_conv1 (Conv2D)       (None, 56, 56, 256)       295168    \n",
      "                                                                 \n",
      " block3_conv2 (Conv2D)       (None, 56, 56, 256)       590080    \n",
      "                                                                 \n",
      " block3_conv3 (Conv2D)       (None, 56, 56, 256)       590080    \n",
      "                                                                 \n",
      " block3_pool (MaxPooling2D)  (None, 28, 28, 256)       0         \n",
      "                                                                 \n",
      " block4_conv1 (Conv2D)       (None, 28, 28, 512)       1180160   \n",
      "                                                                 \n",
      " block4_conv2 (Conv2D)       (None, 28, 28, 512)       2359808   \n",
      "                                                                 \n",
      " block4_conv3 (Conv2D)       (None, 28, 28, 512)       2359808   \n",
      "                                                                 \n",
      " block4_pool (MaxPooling2D)  (None, 14, 14, 512)       0         \n",
      "                                                                 \n",
      " block5_conv1 (Conv2D)       (None, 14, 14, 512)       2359808   \n",
      "                                                                 \n",
      " block5_conv2 (Conv2D)       (None, 14, 14, 512)       2359808   \n",
      "                                                                 \n",
      " block5_conv3 (Conv2D)       (None, 14, 14, 512)       2359808   \n",
      "                                                                 \n",
      " block5_pool (MaxPooling2D)  (None, 7, 7, 512)         0         \n",
      "                                                                 \n",
      " global_average_pooling2d (  (None, 512)               0         \n",
      " GlobalAveragePooling2D)                                         \n",
      "                                                                 \n",
      " dense (Dense)               (None, 1024)              525312    \n",
      "                                                                 \n",
      " dense_1 (Dense)             (None, 512)               524800    \n",
      "                                                                 \n",
      " dense_2 (Dense)             (None, 2)                 1026      \n",
      "                                                                 \n",
      "=================================================================\n",
      "Total params: 15765826 (60.14 MB)\n",
      "Trainable params: 3410946 (13.01 MB)\n",
      "Non-trainable params: 12354880 (47.13 MB)\n",
      "_________________________________________________________________\n"
     ]
    }
   ],
   "source": [
    "new_model = tf.keras.models.load_model('my_model.h5')\n",
    "new_model.summary()"
   ]
  },
  {
   "cell_type": "code",
   "execution_count": 26,
   "metadata": {},
   "outputs": [
    {
     "name": "stdout",
     "output_type": "stream",
     "text": [
      "6/6 [==============================] - 3s 406ms/step - loss: 0.0735 - accuracy: 0.9740\n",
      "Restored model, accuracy: 97.40%\n"
     ]
    }
   ],
   "source": [
    "loss, acc = new_model.evaluate(X_test, y_test)\n",
    "print('Restored model, accuracy: {:5.2f}%'.format(100*acc))"
   ]
  }
 ],
 "metadata": {
  "kernelspec": {
   "display_name": "tf_env",
   "language": "python",
   "name": "python3"
  },
  "language_info": {
   "codemirror_mode": {
    "name": "ipython",
    "version": 3
   },
   "file_extension": ".py",
   "mimetype": "text/x-python",
   "name": "python",
   "nbconvert_exporter": "python",
   "pygments_lexer": "ipython3",
   "version": "3.11.5"
  }
 },
 "nbformat": 4,
 "nbformat_minor": 2
}
