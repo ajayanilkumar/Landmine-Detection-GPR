{
 "cells": [
  {
   "cell_type": "markdown",
   "metadata": {},
   "source": [
    "## Rename the dataset"
   ]
  },
  {
   "cell_type": "code",
   "execution_count": null,
   "metadata": {},
   "outputs": [],
   "source": [
    "import os\n",
    "import re\n",
    "\n",
    "# The directory containing the files\n",
    "directory = '/Users/anilrao/Desktop/Capstone_Code/dataset'\n",
    "\n",
    "# Regex pattern to match the file names\n",
    "pattern = re.compile(r\"cylinder_Bscan_2D_[0-9]+_concrete_[0-9]*\\.[0-9]+_[0-9]*\\.[0-9]+_post\\.png\")\n",
    "\n",
    "# Base for new file names\n",
    "new_base_name = \"concrete\"\n",
    "\n",
    "# Counter for unique file names\n",
    "counter = 241\n",
    "\n",
    "# Iterate over the files in the directory\n",
    "for filename in os.listdir(directory):\n",
    "    # Match the file name using the regex pattern\n",
    "    if pattern.match(filename):\n",
    "        # Get the extension of the current file\n",
    "        _, extension = os.path.splitext(filename)\n",
    "        \n",
    "        # Construct the new file name using the new base name, a counter for uniqueness, and original extension\n",
    "        new_filename = f\"{new_base_name}_{counter}{extension}\"\n",
    "        counter += 1  # Increment the counter for the next file\n",
    "        \n",
    "        # Construct the full old and new file paths\n",
    "        old_file_path = os.path.join(directory, filename)\n",
    "        new_file_path = os.path.join(directory, new_filename)\n",
    "        \n",
    "        # Rename the file\n",
    "        os.rename(old_file_path, new_file_path)\n",
    "        print(f\"Renamed file from {filename} to {new_filename}\")\n"
   ]
  },
  {
   "cell_type": "markdown",
   "metadata": {},
   "source": [
    "## Logic for Data Augmentation"
   ]
  },
  {
   "cell_type": "code",
   "execution_count": null,
   "metadata": {},
   "outputs": [],
   "source": [
    "from PIL import Image\n",
    "\n",
    "# Open an image file\n",
    "with Image.open('/Users/anilrao/Desktop/Capstone_Code/dataset/concrete_1.png') as image:\n",
    "    # Flip the image horizontally\n",
    "    flipped_image = image.transpose(Image.FLIP_LEFT_RIGHT)\n",
    "    \n",
    "    # Save it to a file, if desired\n",
    "    flipped_image.save('/Users/anilrao/Desktop/Capstone_Code/horizontally_flipped.png')\n",
    "\n",
    "    # If you want to display the image in Jupyter Notebook\n",
    "    display(flipped_image)"
   ]
  },
  {
   "cell_type": "markdown",
   "metadata": {},
   "source": [
    "## Check size of each image"
   ]
  },
  {
   "cell_type": "code",
   "execution_count": 12,
   "metadata": {},
   "outputs": [
    {
     "name": "stdout",
     "output_type": "stream",
     "text": [
      "The dimensions of the image are:, 1182, “x”, 1175\n"
     ]
    }
   ],
   "source": [
    "filepath = \"/Users/anilrao/Desktop/Capstone_Code/dataset/concrete_245.png\"\n",
    "\n",
    "img = Image.open (filepath)\n",
    "\n",
    "width, height = img.size\n",
    "\n",
    "print(f\"The dimensions of the image are:, {width}, “x”, {height}\")"
   ]
  },
  {
   "cell_type": "markdown",
   "metadata": {},
   "source": [
    "## Data Augmentation for Negative Samples (Without Landmine)"
   ]
  },
  {
   "cell_type": "code",
   "execution_count": null,
   "metadata": {},
   "outputs": [],
   "source": [
    "import os\n",
    "import re\n",
    "\n",
    "# The directory containing the files\n",
    "directory = '/Users/anilrao/Desktop/Capstone_Code/dataset'\n",
    "\n",
    "# Regex pattern to match the file names\n",
    "pattern = re.compile(r\"concrete_[0-9]+\\.png\")\n",
    "\n",
    "# Base for new file names\n",
    "new_base_name = \"concrete\"\n",
    "\n",
    "# Counter for unique file names\n",
    "counter = 241\n",
    "\n",
    "# Iterate over the files in the directory\n",
    "for filename in os.listdir(directory):\n",
    "    # Match the file name using the regex pattern\n",
    "    if pattern.match(filename):\n",
    "        # Get the extension of the current file\n",
    "        _, extension = os.path.splitext(filename)\n",
    "        \n",
    "        # Construct the new file name using the new base name, a counter for uniqueness, and original extension\n",
    "        new_filename = f\"{new_base_name}_{counter}{extension}\"\n",
    "\n",
    "        with Image.open(f'/Users/anilrao/Desktop/Capstone_Code/dataset/{filename}') as image:\n",
    "            # Flip the image horizontally\n",
    "            flipped_image = image.transpose(Image.FLIP_LEFT_RIGHT)\n",
    "        \n",
    "            # Save it to a file, if desired\n",
    "            flipped_image.save(f'/Users/anilrao/Desktop/Capstone_Code/dataset/{new_filename}')\n",
    "            #print(f\"oldfile : {filename}, augmented : {new_filename}\\n\")\n",
    "        counter += 1  # Increment the counter for the next file"
   ]
  },
  {
   "cell_type": "code",
   "execution_count": null,
   "metadata": {},
   "outputs": [],
   "source": []
  }
 ],
 "metadata": {
  "kernelspec": {
   "display_name": "tf_env",
   "language": "python",
   "name": "python3"
  },
  "language_info": {
   "codemirror_mode": {
    "name": "ipython",
    "version": 3
   },
   "file_extension": ".py",
   "mimetype": "text/x-python",
   "name": "python",
   "nbconvert_exporter": "python",
   "pygments_lexer": "ipython3",
   "version": "3.11.5"
  }
 },
 "nbformat": 4,
 "nbformat_minor": 2
}
